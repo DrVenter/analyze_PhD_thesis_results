{
 "cells": [
  {
   "cell_type": "markdown",
   "id": "6c0076e5",
   "metadata": {},
   "source": [
    "# Evaluating the Circularity of LMTK Fibroblasts in Different Concentrations of Serum-Containing Media"
   ]
  },
  {
   "cell_type": "code",
   "execution_count": 6,
   "id": "fe6d29d3",
   "metadata": {},
   "outputs": [],
   "source": [
    "import numpy as np\n",
    "import pandas as pd"
   ]
  },
  {
   "cell_type": "code",
   "execution_count": 7,
   "id": "b60851ce",
   "metadata": {},
   "outputs": [],
   "source": [
    "file_name = \"fibroblasts_cultured_in_serum_n=1\"\n",
    "extension = \".csv\"\n",
    "data = pd.read_csv(file_name + extension)"
   ]
  },
  {
   "cell_type": "markdown",
   "id": "0dd6988e",
   "metadata": {},
   "source": [
    "### Experimental Conditions"
   ]
  },
  {
   "cell_type": "code",
   "execution_count": 31,
   "id": "20bae326",
   "metadata": {},
   "outputs": [
    {
     "name": "stdout",
     "output_type": "stream",
     "text": [
      "['(1) LMTK 0%', '(2) LMTK 1%', '(3) LMTK 2%', '(4) LMTK 5%', '(5) LMTK 10%']\n"
     ]
    }
   ],
   "source": [
    "categories = list(set(data[\"Label\"]))\n",
    "categories.sort()\n",
    "print(categories)"
   ]
  },
  {
   "cell_type": "markdown",
   "id": "b681430e",
   "metadata": {},
   "source": [
    "### Measurements"
   ]
  },
  {
   "cell_type": "code",
   "execution_count": 23,
   "id": "9a8791d3",
   "metadata": {},
   "outputs": [
    {
     "name": "stdout",
     "output_type": "stream",
     "text": [
      "Index(['Label', 'Area', 'Circ.', 'AR', 'Round', 'Solidity'], dtype='object')\n"
     ]
    }
   ],
   "source": [
    "print(data.columns)"
   ]
  },
  {
   "cell_type": "markdown",
   "id": "acb64215",
   "metadata": {},
   "source": [
    "## Descriptive Statistics "
   ]
  },
  {
   "cell_type": "code",
   "execution_count": 32,
   "id": "db340571",
   "metadata": {
    "scrolled": true
   },
   "outputs": [
    {
     "name": "stdout",
     "output_type": "stream",
     "text": [
      "              Circ.                                                       \\\n",
      "              count      mean       std    min      25%     50%      75%   \n",
      "Label                                                                      \n",
      "(1) LMTK 0%   315.0  0.173870  0.083568  0.055  0.11500  0.1560  0.21000   \n",
      "(2) LMTK 1%    69.0  0.287768  0.158816  0.065  0.18900  0.2460  0.33400   \n",
      "(3) LMTK 2%    93.0  0.230355  0.097594  0.071  0.16800  0.2160  0.26100   \n",
      "(4) LMTK 5%   170.0  0.270259  0.106691  0.060  0.19525  0.2475  0.33925   \n",
      "(5) LMTK 10%  291.0  0.247357  0.112398  0.071  0.17400  0.2220  0.30100   \n",
      "\n",
      "                      Area                                               \\\n",
      "                max  count        mean         std    min    25%    50%   \n",
      "Label                                                                     \n",
      "(1) LMTK 0%   0.660  315.0  153.720635   71.079291  100.0  109.0  131.0   \n",
      "(2) LMTK 1%   0.750   69.0  150.202899  101.796738  100.0  110.0  122.0   \n",
      "(3) LMTK 2%   0.565   93.0  137.591398   51.113522  100.0  107.0  117.0   \n",
      "(4) LMTK 5%   0.611  170.0  142.229412   60.298177  100.0  108.0  125.0   \n",
      "(5) LMTK 10%  0.876  291.0  151.618557   69.753424  100.0  111.0  130.0   \n",
      "\n",
      "                             \n",
      "                 75%    max  \n",
      "Label                        \n",
      "(1) LMTK 0%   169.50  693.0  \n",
      "(2) LMTK 1%   142.00  784.0  \n",
      "(3) LMTK 2%   151.00  378.0  \n",
      "(4) LMTK 5%   153.75  631.0  \n",
      "(5) LMTK 10%  164.50  747.0  \n"
     ]
    }
   ],
   "source": [
    "print(data.groupby(\"Label\")[[\"Circ.\", \"Area\"]].describe())"
   ]
  },
  {
   "cell_type": "code",
   "execution_count": 33,
   "id": "2dc622f7",
   "metadata": {},
   "outputs": [
    {
     "name": "stdout",
     "output_type": "stream",
     "text": [
      "                       Circ.      Area\n",
      "Label                                 \n",
      "(1) LMTK 0%  Circ.  1.000000 -0.301679\n",
      "             Area  -0.301679  1.000000\n",
      "(2) LMTK 1%  Circ.  1.000000  0.021759\n",
      "             Area   0.021759  1.000000\n",
      "(3) LMTK 2%  Circ.  1.000000 -0.157359\n",
      "             Area  -0.157359  1.000000\n",
      "(4) LMTK 5%  Circ.  1.000000 -0.361313\n",
      "             Area  -0.361313  1.000000\n",
      "(5) LMTK 10% Circ.  1.000000 -0.325095\n",
      "             Area  -0.325095  1.000000\n"
     ]
    }
   ],
   "source": [
    "print(data.groupby(\"Label\")[[\"Circ.\", \"Area\"]].corr())"
   ]
  },
  {
   "cell_type": "code",
   "execution_count": null,
   "id": "5a9e73cc",
   "metadata": {},
   "outputs": [],
   "source": []
  }
 ],
 "metadata": {
  "kernelspec": {
   "display_name": "Python 3 (ipykernel)",
   "language": "python",
   "name": "python3"
  },
  "language_info": {
   "codemirror_mode": {
    "name": "ipython",
    "version": 3
   },
   "file_extension": ".py",
   "mimetype": "text/x-python",
   "name": "python",
   "nbconvert_exporter": "python",
   "pygments_lexer": "ipython3",
   "version": "3.9.12"
  }
 },
 "nbformat": 4,
 "nbformat_minor": 5
}
